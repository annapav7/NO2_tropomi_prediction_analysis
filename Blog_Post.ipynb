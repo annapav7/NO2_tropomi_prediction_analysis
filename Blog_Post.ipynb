{
 "cells": [
  {
   "cell_type": "markdown",
   "metadata": {},
   "source": [
    "<img style=\"float: left;\" src=\"earth-lab-logo-rgb.png\" width=\"150\" height=\"150\" />\n",
    "\n",
    "#  Final Project: Earth Analytics Python Course: Spring 2020"
   ]
  },
  {
   "cell_type": "markdown",
   "metadata": {},
   "source": [
    "# Contents:\n",
    "## Earth Data Analytics Final Blog and Notebook\n",
    "## \n",
    "### Why Machine learning is important in Earth Science?"
   ]
  },
  {
   "cell_type": "markdown",
   "metadata": {},
   "source": [
    "Recent intencive developments in Machine Learning (ML) have expanded appication of artificial intellegence to different areas of our life: urban monitoring, fire detection or flood prediction (Fayyad et al., 1996.).\n",
    "The ML-based methods have been widely applied to the science and engineering problems for near two decades. This is while the application of these techniques in the geosciences and remote sensing area is fairly new and limited (David J.Lary, 2016).\n",
    "\n",
    "Machine learning algorithms allowed  the use of increasently available ‘big data’ like Remote Sensing: multispectral or radar satelite images, LiDAR high resolution data in automatization process of processing and preparing for future analyses.\n",
    "\n",
    "A machine learning algorithm is a process that is used to fit a model to a dataset, through training or learning. The learned model is subsequently used against an independent dataset, in order to determine how well the learned model can generalise against the unseen data, a process called testing.\n",
    "In general, machine learning algorithms can be divided into two main groups (supervised- and unsupervised-learning; Fig. 1). Supervised-learning algorithms use predefined input-output pairs and learn how to derive outputs from inputs. The user specifies which variables (i.e., outputs) are considered dependent on others (i.e., inputs). \n",
    "The machine learning toolbox includes several linear and non-linear supervised learners, predicting either numeric outputs (regressors) or nominal outputs (classifiers) (Table 1). (SimonWillcock et al., 2018)"
   ]
  },
  {
   "cell_type": "markdown",
   "metadata": {},
   "source": [
    "### Workflow:\n",
    "\n",
    "*  Machine learning processes automatically provide estimates of uncertainty.\n",
    "*  Uncertainty information enables decision-makers to assign their own thresholds.\n",
    "*  Machine learning algorithms can help scientists make use of ‘big data’."
   ]
  },
  {
   "cell_type": "markdown",
   "metadata": {},
   "source": [
    "<img style=\"float: center;\" src=\"Fig_11.jpg\" width=\"1500\" height=\"1500\" />\n",
    "Fig. 1. A schematic outlining how machine learning algorithms (yellow) can contribute to the data-driven modelling process (blue) (Fayyad et al., 1996)."
   ]
  },
  {
   "cell_type": "markdown",
   "metadata": {},
   "source": [
    "##  Methods in this project\n",
    "### Functions\n",
    "<img style=\"float: center;\" src=\"table.JPG\" width=\"1500\" height=\"1500\" />\n",
    "Table 1. A simplified summary of machine learning algorithms (categorised as supervised and unsupervised).\n",
    "(SimonWillcock et al., 2018)"
   ]
  },
  {
   "cell_type": "markdown",
   "metadata": {},
   "source": [
    "### Supervised Classification"
   ]
  },
  {
   "cell_type": "markdown",
   "metadata": {},
   "source": [
    "#### Creating ROI from.\n",
    "First we need to define a region of interest (ROI). Instead of using an imported asset, we will use a single coordinate that we will manually define.\n",
    "\n",
    "\n",
    "####  Loading an ImageCollection and filtering to a single image \n",
    "Now we will load Landsat imagery and filter to the area and dates of interest. We can use sort to filter the ImageCollection by % cloud cover, a property included with the Landsat Top of Atmosphere (TOA) collection. We then select the first (least cloudy) Image from the sorted ImageCollection \n",
    "// Load the Landsat 8 scaled radiance image collection.\n",
    "var landsatCollection = ee.ImageCollection('LANDSAT/LC08/C01/T1')\n",
    "    .filterDate('2019-01-01', '2019-12-31');\n",
    "\n",
    "// Make a cloud-free composite.\n",
    "var composite = ee.Algorithms.Landsat.simpleComposite({\n",
    "  collection: landsatCollection,\n",
    "  asFloat: true\n",
    "});\n",
    "\n",
    "// Visualize the Composite\n",
    "Map.addLayer(composite, {bands: ['B4', 'B3', 'B2'], max: 0.5, gamma: 2}, 'L8 Image', false);\n",
    "\n",
    "####  Collect Training Data from:\n",
    "\n",
    " * coordinates\n",
    " * manually collected points\n",
    " * random points collection\n",
    "First we need to define a region of interest (ROI).\n",
    "<img style=\"float: center;\" src=\"Random_points collection.JPG\" width=\"1500\" height=\"1500\" />\n",
    "Fig. 1. Random points collection\n",
    "\n",
    "// Merge points together\n",
    "var newfc = water.merge(urban).merge(forest);\n",
    "print(newfc, 'newfc')\n",
    "\n",
    "#### Sample Imagery at Training Points to Create Training datasets\n",
    "\n",
    "// Select the bands for training\n",
    "var bands = ['B2', 'B3', 'B4', 'B5', 'B6', 'B7'];\n",
    "\n",
    "// Sample the input imagery to get a FeatureCollection of training data.\n",
    "var training = composite.select(bands).sampleRegions({\n",
    "  collection: newfc,\n",
    "  properties: ['landcover'],\n",
    "  scale: 30\n",
    "});\n",
    "\n",
    "\n",
    "####  Train the classifier\n",
    "// Make a Random Forest classifier and train it.\n",
    "var classifier = ee.Classifier.randomForest().train({\n",
    "  features: training,\n",
    "  classProperty: 'landcover',\n",
    "  inputProperties: bands\n",
    "});\n",
    "\n",
    "\n",
    "####  Classify the Image & Display the Results\n",
    "\n",
    "Use the new classifier to classify the rest of the imagery.\n",
    "\n",
    "<img style=\"float: center;\" src=\"Supervised_Classification.tif\" width=\"1500\" height=\"1500\" />\n",
    "Fig. 2 Supervised Classification from training data (MLCD was used)\n",
    "\n",
    "#### Assess the Accuracy\n",
    "\n",
    "We can assess the accuracy of the trained classifier using a confusionMatrix.\n",
    "\n",
    "// Get a confusion matrix representing resubstitution accuracy.\n",
    "print('RF error matrix: ', classifier.confusionMatrix());\n",
    "print('RF accuracy: ', classifier.confusionMatrix().accuracy());\n",
    "\n",
    "<img style=\"float: center;\" src=\"Error_1.JPG\" width=\"450\" height=\"450\" />\n",
    "\n",
    "<img style=\"float: center;\" src=\"Error_2.JPG\" width=\"450\" height=\"450\" />"
   ]
  },
  {
   "cell_type": "markdown",
   "metadata": {},
   "source": [
    "### Unsupervised Classification"
   ]
  },
  {
   "cell_type": "markdown",
   "metadata": {},
   "source": [
    "<img style=\"float: center;\" src=\"Unsupervised_Classification.tif\" width=\"1500\" height=\"1500\" />"
   ]
  },
  {
   "cell_type": "markdown",
   "metadata": {},
   "source": [
    "Need a accuracy control/ validation of result."
   ]
  },
  {
   "cell_type": "markdown",
   "metadata": {},
   "source": [
    "### Regression spectral un-mixing"
   ]
  },
  {
   "cell_type": "markdown",
   "metadata": {},
   "source": [
    "// Instantiate the clusterer and train it.\n",
    "var clusterer = ee.Clusterer.wekaKMeans(15).train(training);\n",
    "\n",
    "// Cluster the input using the trained clusterer.\n",
    "var result = selection.cluster(clusterer);\n",
    "\n",
    "// Display the clusters with random colors.\n",
    "Map.addLayer(result.randomVisualizer(), {}, 'clusters');\n",
    "\n",
    "<img style=\"float: center;\" src=\"Un_mixed_chart.tif\" width=\"1500\" height=\"1500\" />"
   ]
  },
  {
   "cell_type": "markdown",
   "metadata": {},
   "source": [
    "### Un-mixed result:\n",
    "<img style=\"float: center;\" src=\"un-mixed.JPG\" width=\"1500\" height=\"1500\" />"
   ]
  },
  {
   "cell_type": "markdown",
   "metadata": {},
   "source": [
    "Need a accuracy control/ validation of result."
   ]
  },
  {
   "cell_type": "markdown",
   "metadata": {},
   "source": [
    "# Result\n",
    "For the ML need to create more training points from high resolution imagery (NAIP imagery) and combine NDVI."
   ]
  },
  {
   "cell_type": "markdown",
   "metadata": {},
   "source": [
    "# Summary / Conclusions:\n",
    "## Development in the future\n",
    "\n",
    "1) Consider 1 Year Time Frame for  \n",
    "     Landsat / Tropi Data in EE.\n",
    "\n",
    "2) Set a Training Data Set from NAIP \n",
    "    imagery (high resolution)\n",
    "\n",
    "3) Work on Deep Machine Learning - \n",
    "    TensorFlow model \n",
    "    \n",
    "## Long-term goal:\n",
    " \n",
    " Build Machine Deep Learning Project:\n",
    "\n",
    "- Creating a TensorFlow Deep Learning VM \n",
    "  Instance\n",
    "\n",
    "\n",
    "- Accuracy validation the TensorFlow compared    to   Supervised/ Unsupervised Classification"
   ]
  },
  {
   "cell_type": "markdown",
   "metadata": {},
   "source": [
    "# References:\n",
    "1) Fayyad et al., 1996. U. Fayyad, G. Piatetsky-Shapiro, P. Smyth. \"From data mining to knowledge discovery in databases\". AI Mag., 17 (1996), p. 37, 10.1609/AIMAG.V17I3.1230\n",
    "2) David J.Lary, \"Machine learning in geosciences and remote sensing\". Geoscience Frontiers. Volume 7, Issue 1, January 2016, Pages 3-10\n",
    "3) SimonWillcock et al. \"Machine learning for ecosystem services\".  Ecosystem Services Volume 33, Part B, October 2018, Pages 165-174. https://doi.org/10.1016/j.ecoser.2018.04.004\n",
    "4) LEO BREIMAN Statistics Department, University of California, Berkeley, CA 94720. \"Random Forests\". Machine Learning, 45, 5–32, 2001 Kluwer Academic Publishers. Manufactured in The Netherlands"
   ]
  },
  {
   "cell_type": "code",
   "execution_count": null,
   "metadata": {},
   "outputs": [],
   "source": []
  }
 ],
 "metadata": {
  "kernelspec": {
   "display_name": "Python 3",
   "language": "python",
   "name": "python3"
  },
  "language_info": {
   "codemirror_mode": {
    "name": "ipython",
    "version": 3
   },
   "file_extension": ".py",
   "mimetype": "text/x-python",
   "name": "python",
   "nbconvert_exporter": "python",
   "pygments_lexer": "ipython3",
   "version": "3.7.6"
  },
  "toc": {
   "base_numbering": 1,
   "nav_menu": {},
   "number_sections": true,
   "sideBar": true,
   "skip_h1_title": false,
   "title_cell": "Table of Contents",
   "title_sidebar": "Contents",
   "toc_cell": false,
   "toc_position": {},
   "toc_section_display": true,
   "toc_window_display": false
  }
 },
 "nbformat": 4,
 "nbformat_minor": 4
}
